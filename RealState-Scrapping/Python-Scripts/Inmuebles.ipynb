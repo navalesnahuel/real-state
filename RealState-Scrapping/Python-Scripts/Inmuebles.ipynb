{
 "cells": [
  {
   "cell_type": "code",
   "execution_count": 1,
   "id": "70a01539-669c-4526-b072-8e7e42c8caa9",
   "metadata": {},
   "outputs": [],
   "source": [
    "import pandas as pd\n",
    "import numpy as np\n",
    "import matplotlib.pyplot as plt\n",
    "import matplotlib\n",
    "import re\n",
    "import os\n",
    "pd.set_option(\"display.max_columns\", 200)\n",
    "pd.set_option('display.max_rows', None)\n",
    "pd.options.display.float_format = '{:.0f}'.format\n",
    "pd.set_option('display.max_colwidth', None)"
   ]
  },
  {
   "cell_type": "code",
   "execution_count": 2,
   "id": "32219cdd-e296-45f5-be27-85370324eb14",
   "metadata": {},
   "outputs": [],
   "source": [
    "df = pd.read_csv(r\"C:\\Users\\PC 2\\Desktop\\my_projects\\project_2\\data\\inmuebles.csv\", encoding=\"UTF-8\")"
   ]
  },
  {
   "cell_type": "code",
   "execution_count": 3,
   "id": "fd893401-13a9-4467-bee7-9db08dc65ac1",
   "metadata": {},
   "outputs": [
    {
     "data": {
      "text/plain": [
       "(100138, 13)"
      ]
     },
     "execution_count": 3,
     "metadata": {},
     "output_type": "execute_result"
    }
   ],
   "source": [
    "df.shape"
   ]
  },
  {
   "cell_type": "code",
   "execution_count": 4,
   "id": "1360f830-ad6b-4869-a0b7-1bea7b5a4a1f",
   "metadata": {},
   "outputs": [
    {
     "data": {
      "text/plain": [
       "Link             object\n",
       "Sup. cubierta    object\n",
       "Dormitorios      object\n",
       "Antiguedad       object\n",
       "Baños            object\n",
       "Ambientes        object\n",
       "Calle            object\n",
       "Ubicacion        object\n",
       "Precio           object\n",
       "Estado           object\n",
       "Antigüedad       object\n",
       "Sup. terreno     object\n",
       "Cocheras         object\n",
       "dtype: object"
      ]
     },
     "execution_count": 4,
     "metadata": {},
     "output_type": "execute_result"
    }
   ],
   "source": [
    "df.dtypes"
   ]
  },
  {
   "cell_type": "code",
   "execution_count": 5,
   "id": "1240ff25-cb98-46b8-9396-0d9ce0e1b943",
   "metadata": {},
   "outputs": [],
   "source": [
    "df[\"Sup. cubierta\"] = df[\"Sup. cubierta\"].str.extract(r'(\\d+)').astype(float)\n",
    "df[\"Area_Cubierta_m2\"] = df[\"Sup. cubierta\"]"
   ]
  },
  {
   "cell_type": "code",
   "execution_count": 6,
   "id": "1f6fd220-fa1d-4e6a-83a6-9fffdfe44c8e",
   "metadata": {},
   "outputs": [
    {
     "data": {
      "text/plain": [
       "Area_Cubierta_m2\n",
       "100    2475\n",
       "40     2355\n",
       "60     2158\n",
       "50     2044\n",
       "200    2001\n",
       "Name: count, dtype: int64"
      ]
     },
     "execution_count": 6,
     "metadata": {},
     "output_type": "execute_result"
    }
   ],
   "source": [
    "df[\"Area_Cubierta_m2\"].value_counts().head()"
   ]
  },
  {
   "cell_type": "code",
   "execution_count": 7,
   "id": "57b0be18-e1ba-4a59-93d4-1b37399a6228",
   "metadata": {},
   "outputs": [],
   "source": [
    "df['Dormitorios'].replace('Monoambiente', np.nan, inplace=True)"
   ]
  },
  {
   "cell_type": "code",
   "execution_count": 8,
   "id": "7d834679-d978-480d-b226-69915bf883dd",
   "metadata": {},
   "outputs": [],
   "source": [
    "df[\"Dormitorios\"] = df[\"Dormitorios\"].str.extract(r'(\\d)')"
   ]
  },
  {
   "cell_type": "code",
   "execution_count": 9,
   "id": "01e8680b-325d-4b15-ba33-3a29771a7ba8",
   "metadata": {
    "scrolled": true
   },
   "outputs": [
    {
     "data": {
      "text/plain": [
       "Dormitorios\n",
       "2    29445\n",
       "3    25845\n",
       "1    22229\n",
       "4    11120\n",
       "5     2971\n",
       "Name: count, dtype: int64"
      ]
     },
     "execution_count": 9,
     "metadata": {},
     "output_type": "execute_result"
    }
   ],
   "source": [
    "df[\"Dormitorios\"].value_counts().head()"
   ]
  },
  {
   "cell_type": "code",
   "execution_count": 10,
   "id": "418ad641-a7b6-4b09-8c67-2cfa4501eb6e",
   "metadata": {},
   "outputs": [],
   "source": [
    "df['Antiguedad'].replace('A Estrenar', \"0\", inplace=True)"
   ]
  },
  {
   "cell_type": "code",
   "execution_count": 11,
   "id": "efdc02a9-5734-4684-9743-9bdd1106432d",
   "metadata": {},
   "outputs": [],
   "source": [
    "df[\"Antiguedad\"] = df[\"Antiguedad\"].str.extract(r'(\\d)')"
   ]
  },
  {
   "cell_type": "code",
   "execution_count": 12,
   "id": "9aa6b2e0-1583-4a11-8ba0-d59b4f3a7359",
   "metadata": {},
   "outputs": [
    {
     "data": {
      "text/plain": [
       "Antiguedad\n",
       "0    10581\n",
       "1     3674\n",
       "4     2510\n",
       "3     2398\n",
       "2     2184\n",
       "Name: count, dtype: int64"
      ]
     },
     "execution_count": 12,
     "metadata": {},
     "output_type": "execute_result"
    }
   ],
   "source": [
    "df[\"Antiguedad\"].value_counts().head()"
   ]
  },
  {
   "cell_type": "code",
   "execution_count": 13,
   "id": "601f1f5d-059f-41b2-8b5d-d808003e0a63",
   "metadata": {},
   "outputs": [],
   "source": [
    "df[\"Baños\"] = df[\"Baños\"].str.extract(r'(\\d)')"
   ]
  },
  {
   "cell_type": "code",
   "execution_count": 14,
   "id": "899d4fe3-cf1d-408f-a774-28e53440aac5",
   "metadata": {},
   "outputs": [],
   "source": [
    "df['Baños'] = pd.to_numeric(df['Baños'])"
   ]
  },
  {
   "cell_type": "code",
   "execution_count": 15,
   "id": "e046c6c9-5617-4ac2-a08c-e85a3409b009",
   "metadata": {},
   "outputs": [],
   "source": [
    "df.loc[df['Baños'] > 10, 'Baños'] = np.nan"
   ]
  },
  {
   "cell_type": "code",
   "execution_count": 16,
   "id": "b0f66691-dad3-4545-9f95-371c0f81e9c0",
   "metadata": {},
   "outputs": [
    {
     "data": {
      "text/plain": [
       "Baños\n",
       "1    46788\n",
       "2    26354\n",
       "3    11970\n",
       "4     5018\n",
       "5     1459\n",
       "6      430\n",
       "7      165\n",
       "8       67\n",
       "9       20\n",
       "Name: count, dtype: int64"
      ]
     },
     "execution_count": 16,
     "metadata": {},
     "output_type": "execute_result"
    }
   ],
   "source": [
    "df[\"Baños\"].value_counts()"
   ]
  },
  {
   "cell_type": "code",
   "execution_count": 17,
   "id": "30e9aeea-5117-4fd5-b8b1-392544730897",
   "metadata": {},
   "outputs": [],
   "source": [
    "df['Ambientes'].replace('Monoambiente', \"1 ambientes\", inplace=True)"
   ]
  },
  {
   "cell_type": "code",
   "execution_count": 18,
   "id": "60ed1111-6e36-4a83-a885-5472e54cde08",
   "metadata": {},
   "outputs": [],
   "source": [
    "df['Ambientes'].replace('ambientes ambientes', np.nan, inplace=True)"
   ]
  },
  {
   "cell_type": "code",
   "execution_count": 19,
   "id": "207f8631-5582-4f0f-854d-74173a740d0d",
   "metadata": {},
   "outputs": [],
   "source": [
    "df[\"Ambientes\"] = df[\"Ambientes\"].str.extract(r'(\\d)')"
   ]
  },
  {
   "cell_type": "code",
   "execution_count": 20,
   "id": "e925fd11-a6bf-4c8f-beec-5ec60e11664a",
   "metadata": {},
   "outputs": [
    {
     "data": {
      "text/plain": [
       "Ambientes\n",
       "3    26547\n",
       "4    21920\n",
       "2    20721\n",
       "5    11353\n",
       "1     5816\n",
       "6     4459\n",
       "7     1648\n",
       "8      685\n",
       "9      241\n",
       "Name: count, dtype: int64"
      ]
     },
     "execution_count": 20,
     "metadata": {},
     "output_type": "execute_result"
    }
   ],
   "source": [
    "df[\"Ambientes\"].value_counts()"
   ]
  },
  {
   "cell_type": "code",
   "execution_count": 21,
   "id": "3fdf213e-3501-406c-8af0-527d2dae2b2d",
   "metadata": {},
   "outputs": [],
   "source": [
    "df['Calle'].replace('Consultar dirección', np.nan, inplace=True)"
   ]
  },
  {
   "cell_type": "code",
   "execution_count": 22,
   "id": "efe591ef-3938-48ca-b43f-e14619473347",
   "metadata": {},
   "outputs": [],
   "source": [
    "df['Calle'] = df['Calle'].astype(str).apply(lambda x: x.title())"
   ]
  },
  {
   "cell_type": "code",
   "execution_count": 23,
   "id": "29a51076-388c-4cd8-a5be-e71914d56cc7",
   "metadata": {},
   "outputs": [
    {
     "data": {
      "text/plain": [
       "Calle\n",
       "Nan                7795\n",
       "Almafuerte 3900     100\n",
       "Santa Elena          89\n",
       "San Sebastian        82\n",
       "San Matias           81\n",
       "Name: count, dtype: int64"
      ]
     },
     "execution_count": 23,
     "metadata": {},
     "output_type": "execute_result"
    }
   ],
   "source": [
    "df[\"Calle\"].value_counts().head()"
   ]
  },
  {
   "cell_type": "code",
   "execution_count": 24,
   "id": "ecfea3e2-86d6-4d12-9f52-5f1b516c8a69",
   "metadata": {},
   "outputs": [],
   "source": [
    "df['Zona'] = df['Ubicacion'].str.split(',').str[-1].str.strip()"
   ]
  },
  {
   "cell_type": "code",
   "execution_count": 25,
   "id": "e53136df-defc-46ba-9318-e4f7c340a9a5",
   "metadata": {},
   "outputs": [
    {
     "data": {
      "text/plain": [
       "Zona\n",
       "G.B.A. Zona Norte        34457\n",
       "G.B.A. Zona Oeste        24383\n",
       "G.B.A. Zona Sur          20730\n",
       "Costa Atlantica          10480\n",
       "Interior Buenos Aires     2561\n",
       "Name: count, dtype: int64"
      ]
     },
     "execution_count": 25,
     "metadata": {},
     "output_type": "execute_result"
    }
   ],
   "source": [
    "df['Zona'].value_counts()"
   ]
  },
  {
   "cell_type": "code",
   "execution_count": 26,
   "id": "1e06f68d-a894-4615-90e3-d33ca3f4d8cb",
   "metadata": {},
   "outputs": [],
   "source": [
    "df['Ubicacion'] = df['Ubicacion'].astype(str)"
   ]
  },
  {
   "cell_type": "code",
   "execution_count": 27,
   "id": "78073ab4-688c-4bba-a48a-98c4dc563abd",
   "metadata": {},
   "outputs": [],
   "source": [
    "df['Ubicacion'] = df.apply(lambda row: re.sub(r',\\s*' + re.escape(str(row['Zona'])), '', row['Ubicacion']), axis=1)"
   ]
  },
  {
   "cell_type": "code",
   "execution_count": 28,
   "id": "e6cfac38-ccf1-4f6a-9b58-ab5c95ca3234",
   "metadata": {},
   "outputs": [
    {
     "data": {
      "text/plain": [
       "0"
      ]
     },
     "execution_count": 28,
     "metadata": {},
     "output_type": "execute_result"
    }
   ],
   "source": [
    "df[\"Ubicacion\"].isna().sum()"
   ]
  },
  {
   "cell_type": "code",
   "execution_count": 29,
   "id": "e7a70ef0-a15d-45f2-93d2-84eaff64fc9b",
   "metadata": {},
   "outputs": [],
   "source": [
    "df['Ubicacion'].replace('nan', np.nan, inplace=True)"
   ]
  },
  {
   "cell_type": "code",
   "execution_count": 30,
   "id": "d1a5387f-d130-4455-af70-b9202cd62ecb",
   "metadata": {},
   "outputs": [
    {
     "data": {
      "text/plain": [
       "Ubicacion\n",
       "La Plata                               2827\n",
       "Ramos Mejia, La Matanza                2791\n",
       "Ituzaingo                              2117\n",
       "Villa Ballester, General San Martin    1956\n",
       "San Miguel                             1832\n",
       "Name: count, dtype: int64"
      ]
     },
     "execution_count": 30,
     "metadata": {},
     "output_type": "execute_result"
    }
   ],
   "source": [
    "df[\"Ubicacion\"].value_counts().head()"
   ]
  },
  {
   "cell_type": "code",
   "execution_count": 31,
   "id": "a522faf4-33b4-4d65-964a-f5c3e115b6b1",
   "metadata": {},
   "outputs": [],
   "source": [
    "df['Precio'].replace('Consultar precio', \"0\", inplace=True)"
   ]
  },
  {
   "cell_type": "code",
   "execution_count": 32,
   "id": "18f3142f-1ff0-4434-9c70-91670b19f718",
   "metadata": {},
   "outputs": [],
   "source": [
    "df['Precio'] = df['Precio'].replace('\\\\.', '', regex=True)"
   ]
  },
  {
   "cell_type": "code",
   "execution_count": 33,
   "id": "368cc278-e16f-4f01-989b-02e6b40f030e",
   "metadata": {},
   "outputs": [],
   "source": [
    "df[\"Precio\"] = df[\"Precio\"].str.extract(r'(\\d+)')"
   ]
  },
  {
   "cell_type": "code",
   "execution_count": 34,
   "id": "5a016ba3-8d9a-474a-967d-0fbe2e005db6",
   "metadata": {},
   "outputs": [],
   "source": [
    "df['Precio'] = pd.to_numeric(df[\"Precio\"])"
   ]
  },
  {
   "cell_type": "code",
   "execution_count": 35,
   "id": "f5c8f7ff-f2c9-40c7-b989-5980cd1a87da",
   "metadata": {},
   "outputs": [],
   "source": [
    "df.loc[df['Precio'] < 7000, 'Precio'] = np.nan"
   ]
  },
  {
   "cell_type": "code",
   "execution_count": 36,
   "id": "0c10f2ee-3c52-4703-9d2a-7e3795ea9012",
   "metadata": {
    "scrolled": true
   },
   "outputs": [
    {
     "data": {
      "text/plain": [
       "Precio\n",
       "2147483647    1\n",
       "882000000     1\n",
       "712390694     1\n",
       "685719910     1\n",
       "640090000     2\n",
       "Name: count, dtype: int64"
      ]
     },
     "execution_count": 36,
     "metadata": {},
     "output_type": "execute_result"
    }
   ],
   "source": [
    "df['Precio'].value_counts().sort_index(ascending=False).head()"
   ]
  },
  {
   "cell_type": "code",
   "execution_count": 37,
   "id": "9abff3cc-f63d-40fe-a3ac-498aca5ac174",
   "metadata": {},
   "outputs": [],
   "source": [
    "df['Antigüedad'].replace('A Estrenar', \"0\", inplace=True)\n",
    "df['Antigüedad'].replace('A estrenar', \"0\", inplace=True)"
   ]
  },
  {
   "cell_type": "code",
   "execution_count": 38,
   "id": "ce27e665-5684-43a7-bbc5-552c5b7f2305",
   "metadata": {},
   "outputs": [],
   "source": [
    "df[\"Antigüedad\"] = df[\"Antigüedad\"].str.extract(r'(\\d+)')"
   ]
  },
  {
   "cell_type": "code",
   "execution_count": 39,
   "id": "5287b8ce-62a0-42be-aa27-eb20149746bc",
   "metadata": {},
   "outputs": [],
   "source": [
    "df['Antigüedad'] = pd.to_numeric(df[\"Antigüedad\"])"
   ]
  },
  {
   "cell_type": "code",
   "execution_count": 40,
   "id": "d97cfb5a-0ffd-4a4d-af1b-efa2a0ab74dd",
   "metadata": {},
   "outputs": [],
   "source": [
    "df.loc[df['Antigüedad'] > 500, 'Antigüedad'] = np.nan"
   ]
  },
  {
   "cell_type": "code",
   "execution_count": 41,
   "id": "88d483c9-c51d-478f-aa7a-b280066b3576",
   "metadata": {
    "scrolled": true
   },
   "outputs": [
    {
     "data": {
      "text/plain": [
       "Antigüedad\n",
       "0     11766\n",
       "30     3398\n",
       "40     3270\n",
       "20     3043\n",
       "10     2462\n",
       "Name: count, dtype: int64"
      ]
     },
     "execution_count": 41,
     "metadata": {},
     "output_type": "execute_result"
    }
   ],
   "source": [
    "df[\"Antigüedad\"].value_counts().head()"
   ]
  },
  {
   "cell_type": "code",
   "execution_count": 42,
   "id": "8de07aad-f09c-4f80-aa9f-65b52522c2bd",
   "metadata": {},
   "outputs": [],
   "source": [
    "df['Antiguedad'] = df['Antiguedad'].combine_first(df['Antigüedad'])"
   ]
  },
  {
   "cell_type": "code",
   "execution_count": 43,
   "id": "b12a1bfa-6960-4a92-a22e-b01e5d96ea31",
   "metadata": {
    "scrolled": true
   },
   "outputs": [],
   "source": [
    "df[\"Antiguedad\"] = pd.to_numeric(df[\"Antiguedad\"])"
   ]
  },
  {
   "cell_type": "code",
   "execution_count": 44,
   "id": "b54212ae-159d-4781-858f-ac99bb4f5374",
   "metadata": {
    "scrolled": true
   },
   "outputs": [
    {
     "data": {
      "text/plain": [
       "Antiguedad\n",
       "0     22347\n",
       "1      4639\n",
       "30     3398\n",
       "5      3300\n",
       "40     3270\n",
       "Name: count, dtype: int64"
      ]
     },
     "execution_count": 44,
     "metadata": {},
     "output_type": "execute_result"
    }
   ],
   "source": [
    "df[\"Antiguedad\"].value_counts().head()"
   ]
  },
  {
   "cell_type": "code",
   "execution_count": 45,
   "id": "c214a9c1-a9c4-406c-ae17-f94c996a1b22",
   "metadata": {
    "scrolled": true
   },
   "outputs": [
    {
     "data": {
      "text/plain": [
       "Sup. terreno\n",
       "300  m² Terreno    1780\n",
       "200  m² Terreno    1007\n",
       "600  m² Terreno     834\n",
       "800  m² Terreno     789\n",
       "400  m² Terreno     746\n",
       "Name: count, dtype: int64"
      ]
     },
     "execution_count": 45,
     "metadata": {},
     "output_type": "execute_result"
    }
   ],
   "source": [
    "df['Sup. terreno'].value_counts().head()"
   ]
  },
  {
   "cell_type": "code",
   "execution_count": 46,
   "id": "7d4e87a5-c5df-478b-83c9-552e25a746eb",
   "metadata": {},
   "outputs": [],
   "source": [
    "df[\"Area_Terreno_m2\"] = df[\"Sup. terreno\"].str.extract(r'(\\d+)').astype(float)"
   ]
  },
  {
   "cell_type": "code",
   "execution_count": 47,
   "id": "1bacc724-fbd4-4ce0-8196-bc572dceaa65",
   "metadata": {},
   "outputs": [],
   "source": [
    "df.loc[df['Area_Terreno_m2'] < 10, 'Area_Terreno_m2'] = np.nan"
   ]
  },
  {
   "cell_type": "code",
   "execution_count": 48,
   "id": "c5605327-d10c-42fe-8593-017df7ce9744",
   "metadata": {
    "scrolled": true
   },
   "outputs": [
    {
     "data": {
      "text/plain": [
       "Area_Terreno_m2\n",
       "300    2186\n",
       "200    1280\n",
       "600    1005\n",
       "400     936\n",
       "800     906\n",
       "Name: count, dtype: int64"
      ]
     },
     "execution_count": 48,
     "metadata": {},
     "output_type": "execute_result"
    }
   ],
   "source": [
    "df[\"Area_Terreno_m2\"].value_counts().head()"
   ]
  },
  {
   "cell_type": "code",
   "execution_count": 49,
   "id": "5219745c-801e-4ee2-931b-9c27d556810a",
   "metadata": {
    "scrolled": true
   },
   "outputs": [
    {
     "data": {
      "text/plain": [
       "Area_Cubierta_m2\n",
       "100    2475\n",
       "40     2355\n",
       "60     2158\n",
       "50     2044\n",
       "200    2001\n",
       "Name: count, dtype: int64"
      ]
     },
     "execution_count": 49,
     "metadata": {},
     "output_type": "execute_result"
    }
   ],
   "source": [
    "df['Area_Cubierta_m2'].value_counts().head()"
   ]
  },
  {
   "cell_type": "code",
   "execution_count": 50,
   "id": "8d020b58-f4d8-479f-a2c7-20bc45b29117",
   "metadata": {},
   "outputs": [],
   "source": [
    "df['Cocheras'] = df['Cocheras'].str.extract(r'(\\d+)').astype(float)"
   ]
  },
  {
   "cell_type": "code",
   "execution_count": 51,
   "id": "70f6a281-d902-4a93-985d-fa3351ddfcc2",
   "metadata": {},
   "outputs": [],
   "source": [
    "df['Cocheras'] = pd.to_numeric(df['Cocheras'])"
   ]
  },
  {
   "cell_type": "code",
   "execution_count": 52,
   "id": "2adb0e62-f8c7-4cf2-bd1b-e76a81a78c7a",
   "metadata": {},
   "outputs": [],
   "source": [
    "df.loc[df['Cocheras'] > 9, 'Cocheras'] = np.nan"
   ]
  },
  {
   "cell_type": "code",
   "execution_count": 53,
   "id": "c7cce4ba-cc86-4153-a3a0-09f6db3310f6",
   "metadata": {},
   "outputs": [
    {
     "data": {
      "text/plain": [
       "Cocheras\n",
       "1    31613\n",
       "2    13462\n",
       "3     3109\n",
       "4     1878\n",
       "5      596\n",
       "6      302\n",
       "7      112\n",
       "8       71\n",
       "9       25\n",
       "Name: count, dtype: int64"
      ]
     },
     "execution_count": 53,
     "metadata": {},
     "output_type": "execute_result"
    }
   ],
   "source": [
    "df[\"Cocheras\"].value_counts()"
   ]
  },
  {
   "cell_type": "code",
   "execution_count": 54,
   "id": "fcea1411-a8ff-4e62-b59d-f21dda30741b",
   "metadata": {},
   "outputs": [
    {
     "data": {
      "text/plain": [
       "(100138, 16)"
      ]
     },
     "execution_count": 54,
     "metadata": {},
     "output_type": "execute_result"
    }
   ],
   "source": [
    "df.shape"
   ]
  },
  {
   "cell_type": "code",
   "execution_count": 55,
   "id": "f233b72e-8438-4a5f-8996-83910874b801",
   "metadata": {},
   "outputs": [
    {
     "data": {
      "text/plain": [
       "Index(['Link', 'Sup. cubierta', 'Dormitorios', 'Antiguedad', 'Baños',\n",
       "       'Ambientes', 'Calle', 'Ubicacion', 'Precio', 'Estado', 'Antigüedad',\n",
       "       'Sup. terreno', 'Cocheras', 'Area_Cubierta_m2', 'Zona',\n",
       "       'Area_Terreno_m2'],\n",
       "      dtype='object')"
      ]
     },
     "execution_count": 55,
     "metadata": {},
     "output_type": "execute_result"
    }
   ],
   "source": [
    "df.columns"
   ]
  },
  {
   "cell_type": "code",
   "execution_count": 56,
   "id": "43bcb8b5-db8f-4b0b-b82b-7404fd1ad201",
   "metadata": {},
   "outputs": [],
   "source": [
    "drop_columns = ['Sup. cubierta', 'Antigüedad', 'Sup. terreno']\n",
    "df = df.drop(columns=drop_columns)"
   ]
  },
  {
   "cell_type": "code",
   "execution_count": 57,
   "id": "d98d287c-32e3-419c-bb2c-049f78edd5f5",
   "metadata": {},
   "outputs": [
    {
     "data": {
      "text/plain": [
       "Link                 object\n",
       "Dormitorios          object\n",
       "Antiguedad          float64\n",
       "Baños               float64\n",
       "Ambientes            object\n",
       "Calle                object\n",
       "Ubicacion            object\n",
       "Precio              float64\n",
       "Estado               object\n",
       "Cocheras            float64\n",
       "Area_Cubierta_m2    float64\n",
       "Zona                 object\n",
       "Area_Terreno_m2     float64\n",
       "dtype: object"
      ]
     },
     "execution_count": 57,
     "metadata": {},
     "output_type": "execute_result"
    }
   ],
   "source": [
    "df.dtypes"
   ]
  },
  {
   "cell_type": "code",
   "execution_count": 58,
   "id": "630cb6d8-b40d-4fd6-8e55-fd6b48413902",
   "metadata": {},
   "outputs": [],
   "source": [
    "df['Dormitorios'] = df['Dormitorios'].fillna(pd.NA).astype('Int16')\n",
    "df['Antiguedad'] = df['Antiguedad'].fillna(pd.NA).astype('Int16')\n",
    "df['Baños'] = df['Baños'].fillna(pd.NA).astype('Int16')\n",
    "df['Ambientes'] = df['Ambientes'].fillna(pd.NA).astype('Int16')\n",
    "df['Precio'] = df['Precio'].fillna(pd.NA).astype('Int64')\n",
    "df['Cocheras'] = df['Cocheras'].fillna(pd.NA).astype('Int16')\n",
    "df['Area_Cubierta_m2'] = df['Area_Cubierta_m2'].fillna(pd.NA).astype('Int16')\n",
    "df['Area_Terreno_m2'] = df['Area_Terreno_m2'].fillna(pd.NA).astype('Int16')\n",
    "df['Estado'] = df['Estado'].fillna(pd.NA).astype('category')\n",
    "df['Zona'] = df['Zona'].fillna(pd.NA).astype('category')"
   ]
  },
  {
   "cell_type": "code",
   "execution_count": 59,
   "id": "9baea4e3-f2d6-4e4e-91aa-16685bdfbb97",
   "metadata": {},
   "outputs": [],
   "source": [
    "df = df[['Ambientes', 'Dormitorios', 'Baños', 'Cocheras', 'Area_Terreno_m2', 'Area_Cubierta_m2',\n",
    "         'Antiguedad', 'Estado', 'Ubicacion', 'Calle', 'Zona', 'Precio', 'Link']]"
   ]
  },
  {
   "cell_type": "code",
   "execution_count": 60,
   "id": "fdc04050-59e3-4714-8903-fff814874f9f",
   "metadata": {},
   "outputs": [
    {
     "data": {
      "text/plain": [
       "Ambientes              Int16\n",
       "Dormitorios            Int16\n",
       "Baños                  Int16\n",
       "Cocheras               Int16\n",
       "Area_Terreno_m2        Int16\n",
       "Area_Cubierta_m2       Int16\n",
       "Antiguedad             Int16\n",
       "Estado              category\n",
       "Ubicacion             object\n",
       "Calle                 object\n",
       "Zona                category\n",
       "Precio                 Int64\n",
       "Link                  object\n",
       "dtype: object"
      ]
     },
     "execution_count": 60,
     "metadata": {},
     "output_type": "execute_result"
    }
   ],
   "source": [
    "df.dtypes"
   ]
  },
  {
   "cell_type": "code",
   "execution_count": 61,
   "id": "3acc4581-0dc9-46d1-9849-bd01ad4ede4f",
   "metadata": {},
   "outputs": [],
   "source": [
    "df.to_csv(r'C:\\Users\\PC 2\\Desktop\\Inmuebles.csv', index=False)"
   ]
  }
 ],
 "metadata": {
  "kernelspec": {
   "display_name": "minimal_ds",
   "language": "python",
   "name": "minimal_ds"
  },
  "language_info": {
   "codemirror_mode": {
    "name": "ipython",
    "version": 3
   },
   "file_extension": ".py",
   "mimetype": "text/x-python",
   "name": "python",
   "nbconvert_exporter": "python",
   "pygments_lexer": "ipython3",
   "version": "3.12.0"
  }
 },
 "nbformat": 4,
 "nbformat_minor": 5
}
