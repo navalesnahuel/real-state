{
 "cells": [
  {
   "cell_type": "code",
   "execution_count": 11,
   "id": "149111e7-9a0f-4c7f-8fb3-e4c5e65f70a2",
   "metadata": {},
   "outputs": [],
   "source": [
    "from bs4 import BeautifulSoup\n",
    "import requests\n",
    "import pandas as pd\n",
    "import time \n",
    "from concurrent.futures import ThreadPoolExecutor\n",
    "import concurrent.futures\n",
    "from tqdm.notebook import tqdm\n",
    "pd.set_option('display.max_colwidth', None)"
   ]
  },
  {
   "cell_type": "code",
   "execution_count": 2,
   "id": "e1b0529a-cfbe-4bbb-a030-07f9b037c1ea",
   "metadata": {},
   "outputs": [],
   "source": [
    "base_url = 'https://www.argenprop.com/casas-o-departamentos/venta/buenos-aires?pagina-'\n",
    "response = requests.get(base_url)\n",
    "\n",
    "if response.status_code == 200:\n",
    "    soup = BeautifulSoup(response.text, 'html.parser')\n",
    "    pagination = soup.find('ul', class_='pagination')\n",
    "    last_page_element = pagination.find_all('li')[-2] \n",
    "    max_pages = int(last_page_element.text.strip())"
   ]
  },
  {
   "cell_type": "code",
   "execution_count": 12,
   "id": "5c666efc-936e-4ec1-b2b2-65029f2e137f",
   "metadata": {},
   "outputs": [
    {
     "data": {
      "application/vnd.jupyter.widget-view+json": {
       "model_id": "60df61b240e2454988d63e98bcf44e79",
       "version_major": 2,
       "version_minor": 0
      },
      "text/plain": [
       "  0%|          | 0/20 [00:00<?, ?it/s]"
      ]
     },
     "metadata": {},
     "output_type": "display_data"
    }
   ],
   "source": [
    "residencias = []\n",
    "max_pages = 20\n",
    "\n",
    "def scrape_page(page):\n",
    "    url = f'{base_url}{page}'\n",
    "    response = requests.get(url)\n",
    "    \n",
    "    if response.status_code == 200:\n",
    "        soup = BeautifulSoup(response.text, 'lxml')\n",
    "        results = soup.find_all(class_='card')\n",
    "\n",
    "        if len(results) > 0:\n",
    "            for result in results:\n",
    "                link = result.get('href')\n",
    "                if link is not None:\n",
    "                    residencias.append('https://www.argenprop.com' + link)\n",
    "            return True\n",
    "        else:\n",
    "            return False\n",
    "    else:\n",
    "        return False\n",
    "\n",
    "with ThreadPoolExecutor(max_workers=8) as executor:   \n",
    "    futures = [executor.submit(scrape_page, page) for page in range(1, max_pages + 1)]\n",
    "\n",
    "    for future in futures:\n",
    "        if future.result():\n",
    "            time.sleep(0.5)  \n"
   ]
  },
  {
   "cell_type": "code",
   "execution_count": 4,
   "id": "050edf92-3654-4313-a8df-d3b24d52604d",
   "metadata": {
    "scrolled": true
   },
   "outputs": [],
   "source": [
    "data = []\n",
    "\n",
    "def process_residencia(residencia):\n",
    "    with requests.Session() as session:\n",
    "        response = session.get(residencia)\n",
    "\n",
    "    if response.status_code == 200:\n",
    "        soup = BeautifulSoup(response.text, 'lxml')\n",
    "        main_features = soup.find('ul', class_='property-main-features')\n",
    "        location_container = soup.find('div', class_='location-container')\n",
    "        price_element = soup.find('p', class_='titlebar__price')\n",
    "\n",
    "        if main_features:\n",
    "            features = main_features.find_all('li')\n",
    "            residence_data = {'Link': residencia}\n",
    "\n",
    "            for feature in features:\n",
    "                title = feature.get('title')\n",
    "                value = feature.find('p', class_='strong').text.strip()\n",
    "                residence_data[title] = value\n",
    "\n",
    "            if location_container:\n",
    "                location_title = location_container.find('h2').text.strip()\n",
    "                location_info = location_container.find('p').text.strip()                \n",
    "                residence_data['Calle'] = location_title\n",
    "                residence_data['Ubicacion'] = location_info\n",
    "\n",
    "            if price_element:\n",
    "                price = price_element.get_text(strip=True)\n",
    "                residence_data['Precio'] = price\n",
    "\n",
    "            return residence_data\n",
    "\n",
    "with concurrent.futures.ThreadPoolExecutor(max_workers=8) as executor:\n",
    "    results = executor.map(process_residencia, residencias)\n",
    "    for result in results:\n",
    "        if result:\n",
    "            data.append(result)\n",
    "\n",
    "\n",
    "df = pd.DataFrame(data)"
   ]
  },
  {
   "cell_type": "code",
   "execution_count": 8,
   "id": "09a4815c-901e-43bb-b51a-0a9a8f90ebf6",
   "metadata": {},
   "outputs": [
    {
     "data": {
      "text/plain": [
       "(398, 18)"
      ]
     },
     "execution_count": 8,
     "metadata": {},
     "output_type": "execute_result"
    }
   ],
   "source": [
    "df.shape"
   ]
  },
  {
   "cell_type": "code",
   "execution_count": 6,
   "id": "b13fb99d-2680-4b68-880f-9f1cc71514c0",
   "metadata": {},
   "outputs": [
    {
     "data": {
      "text/plain": [
       "Link                  0\n",
       "Sup. cubierta         3\n",
       "Dormitorios          18\n",
       "Antigüedad          196\n",
       "Baños                 6\n",
       "Ambientes            11\n",
       "Cocheras            155\n",
       "Sup. terreno        212\n",
       "Calle                 3\n",
       "Ubicacion             3\n",
       "Precio                0\n",
       "Estado              315\n",
       "Orientación         290\n",
       "Toilettes           378\n",
       "Antiguedad          259\n",
       "Disposición         312\n",
       "Apto profesional    376\n",
       "Permite mascota     393\n",
       "dtype: int64"
      ]
     },
     "execution_count": 6,
     "metadata": {},
     "output_type": "execute_result"
    }
   ],
   "source": [
    "df.isna().sum()"
   ]
  },
  {
   "cell_type": "code",
   "execution_count": 2,
   "id": "e9086daf-77a5-42fb-abeb-40a15ef957df",
   "metadata": {},
   "outputs": [],
   "source": [
    "columns_to_drop = ['Dependencia', 'Cantidad de baños', 'Cantidad de dormitorios', 'Toilletes', 'Permite mascota', 'Toilettes', 'Superficie cubierta', 'Apto profesional', 'Orientación', 'Disposición']\n",
    "df = df.drop(columns=columns_to_drop)\n"
   ]
  },
  {
   "cell_type": "code",
   "execution_count": null,
   "id": "06fe7131-b56b-476d-8368-fdf40faa19b8",
   "metadata": {},
   "outputs": [],
   "source": [
    " df.to_csv('argenprop.csv', index=False)"
   ]
  }
 ],
 "metadata": {
  "kernelspec": {
   "display_name": "minimal_ds",
   "language": "python",
   "name": "minimal_ds"
  },
  "language_info": {
   "codemirror_mode": {
    "name": "ipython",
    "version": 3
   },
   "file_extension": ".py",
   "mimetype": "text/x-python",
   "name": "python",
   "nbconvert_exporter": "python",
   "pygments_lexer": "ipython3",
   "version": "3.12.0"
  }
 },
 "nbformat": 4,
 "nbformat_minor": 5
}
